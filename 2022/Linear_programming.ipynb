{
 "cells": [
  {
   "cell_type": "code",
   "execution_count": 16,
   "metadata": {},
   "outputs": [],
   "source": [
    "import pandas as pd\n",
    "from pulp import *"
   ]
  },
  {
   "cell_type": "code",
   "execution_count": 17,
   "metadata": {},
   "outputs": [],
   "source": [
    "filepath = r\"C:\\Users\\lbetham\\GitHub\\Fantasy-Premier-League\\data\"\n",
    "cleaned_players_df = pd.read_csv(filepath + r\"\\2022-23\\cleaned_players.csv\", low_memory=False)\n",
    "teams_df = pd.read_csv(filepath + r\"\\2022-23\\teams.csv\", low_memory=False)\n",
    "past_seasons_df = pd.read_csv(filepath + r\"\\cleaned_merged_seasons.csv\", low_memory=False)\n",
    "raw_players_df = pd.read_csv(filepath + r\"\\2022-23\\players_raw.csv\", low_memory=False)"
   ]
  },
  {
   "cell_type": "code",
   "execution_count": 18,
   "metadata": {},
   "outputs": [],
   "source": [
    "model_df = pd.merge(cleaned_players_df,raw_players_df[['first_name','second_name','team_code']],\"left\",on=['first_name','second_name'])\n",
    "model_df = pd.merge(model_df,teams_df[['code','name']],\"left\",left_on='team_code',right_on='code')\n",
    "model_df.rename({'name':'team_name','code':'team_code'},axis=1,inplace=True)"
   ]
  },
  {
   "cell_type": "code",
   "execution_count": 19,
   "metadata": {},
   "outputs": [],
   "source": [
    "model_df[\"full_name\"] = model_df[\"first_name\"] + \" \" + model_df[\"second_name\"]"
   ]
  },
  {
   "cell_type": "code",
   "execution_count": 110,
   "metadata": {},
   "outputs": [
    {
     "data": {
      "text/html": [
       "<div>\n",
       "<style scoped>\n",
       "    .dataframe tbody tr th:only-of-type {\n",
       "        vertical-align: middle;\n",
       "    }\n",
       "\n",
       "    .dataframe tbody tr th {\n",
       "        vertical-align: top;\n",
       "    }\n",
       "\n",
       "    .dataframe thead th {\n",
       "        text-align: right;\n",
       "    }\n",
       "</style>\n",
       "<table border=\"1\" class=\"dataframe\">\n",
       "  <thead>\n",
       "    <tr style=\"text-align: right;\">\n",
       "      <th></th>\n",
       "      <th>first_name</th>\n",
       "      <th>second_name</th>\n",
       "      <th>goals_scored</th>\n",
       "      <th>assists</th>\n",
       "      <th>total_points</th>\n",
       "      <th>minutes</th>\n",
       "      <th>goals_conceded</th>\n",
       "      <th>creativity</th>\n",
       "      <th>influence</th>\n",
       "      <th>threat</th>\n",
       "      <th>...</th>\n",
       "      <th>clean_sheets</th>\n",
       "      <th>red_cards</th>\n",
       "      <th>yellow_cards</th>\n",
       "      <th>selected_by_percent</th>\n",
       "      <th>now_cost</th>\n",
       "      <th>element_type</th>\n",
       "      <th>team_code</th>\n",
       "      <th>team_code</th>\n",
       "      <th>team_name</th>\n",
       "      <th>full_name</th>\n",
       "    </tr>\n",
       "  </thead>\n",
       "  <tbody>\n",
       "    <tr>\n",
       "      <th>27</th>\n",
       "      <td>Gabriel</td>\n",
       "      <td>Fernando de Jesus</td>\n",
       "      <td>8</td>\n",
       "      <td>8</td>\n",
       "      <td>120</td>\n",
       "      <td>1871</td>\n",
       "      <td>15</td>\n",
       "      <td>530.9</td>\n",
       "      <td>567.4</td>\n",
       "      <td>1126.0</td>\n",
       "      <td>...</td>\n",
       "      <td>11</td>\n",
       "      <td>0</td>\n",
       "      <td>1</td>\n",
       "      <td>56.7</td>\n",
       "      <td>80</td>\n",
       "      <td>FWD</td>\n",
       "      <td>3</td>\n",
       "      <td>3</td>\n",
       "      <td>Arsenal</td>\n",
       "      <td>Gabriel Fernando de Jesus</td>\n",
       "    </tr>\n",
       "  </tbody>\n",
       "</table>\n",
       "<p>1 rows × 23 columns</p>\n",
       "</div>"
      ],
      "text/plain": [
       "   first_name        second_name  goals_scored  assists  total_points  \\\n",
       "27    Gabriel  Fernando de Jesus             8        8           120   \n",
       "\n",
       "    minutes  goals_conceded  creativity  influence  threat  ...  clean_sheets  \\\n",
       "27     1871              15       530.9      567.4  1126.0  ...            11   \n",
       "\n",
       "    red_cards  yellow_cards  selected_by_percent  now_cost  element_type  \\\n",
       "27          0             1                 56.7        80           FWD   \n",
       "\n",
       "    team_code  team_code team_name                  full_name  \n",
       "27          3          3   Arsenal  Gabriel Fernando de Jesus  \n",
       "\n",
       "[1 rows x 23 columns]"
      ]
     },
     "execution_count": 110,
     "metadata": {},
     "output_type": "execute_result"
    }
   ],
   "source": [
    "model_df[model_df[\"full_name\"] == \"Gabriel Fernando de Jesus\"]"
   ]
  },
  {
   "cell_type": "code",
   "execution_count": 21,
   "metadata": {},
   "outputs": [],
   "source": [
    "# Helper variables\n",
    "POS = model_df.element_type.unique()\n",
    "CLUBS = model_df.team_name.unique()\n",
    "\n",
    "\n"
   ]
  },
  {
   "cell_type": "code",
   "execution_count": 113,
   "metadata": {},
   "outputs": [],
   "source": [
    "def solve_team(df, fixed_players = None):\n",
    "    \"\"\"A function which solves the team optimisation problem\"\"\"\n",
    "    budget = 1000\n",
    "    pos_available = {'DEF': 5, 'FWD': 3,'GK': 2, 'MID': 5}\n",
    "    teams_amount = {team: 3 for team in CLUBS}\n",
    "\n",
    "    # Remove fixed players from the constraints\n",
    "    if fixed_players is not None:\n",
    "        for player in fixed_players:\n",
    "            budget -= df[df[\"full_name\"] == player].now_cost.values[0]\n",
    "            pos_available[df[df[\"full_name\"]==player].element_type.values[0]] -= 1\n",
    "            teams_amount[df[df[\"full_name\"]==player].team_name.values[0]] -= 1\n",
    "\n",
    "        df = df[~df['full_name'].isin(fixed_players)]\n",
    "    # Initialize Variables\n",
    "    names = df.full_name.tolist()\n",
    "    teams = df.team_name.tolist()\n",
    "    positions = df.element_type.tolist()\n",
    "    prices = df.now_cost.tolist()\n",
    "    points = df.total_points.tolist()\n",
    "    player_ids = [LpVariable(\"player_\" + str(i), cat=\"Binary\") for i in df.index]\n",
    "    print(f\"Budget = {budget} - Positions = {pos_available} - Teams = {teams_amount}\")\n",
    "\n",
    "    prob = LpProblem(\"FPL_Player_Choices\", LpMaximize)\n",
    "    # Define the objective\n",
    "    prob += lpSum(player_ids[i] * points[i] for i in range(len(df))) # Objective - maximize points\n",
    "    # Budget Limit\n",
    "    prob += lpSum(player_ids[i] * df.now_cost[df.index[i]] for i in range(len(df))) <= budget \n",
    "    # Position Limit\n",
    "    for pos in POS:\n",
    "        prob += lpSum(player_ids[i] for i in range(len(df)) if positions[i] == pos) <= pos_available[pos] \n",
    "    # Club Limit\n",
    "    for club in CLUBS:\n",
    "        prob += lpSum(player_ids[i] for i in range(len(df)) if teams[i] == club) <= teams_amount[club] \n",
    "    prob.solve()\n",
    "    return prob\n",
    "\n",
    "def create_team_df(prob, fixed_players = None):\n",
    "    \"\"\"A function which creates a dataframe of the optimal team from the problem solution\"\"\"\n",
    "    team_df = pd.DataFrame(columns=['name','team','position','price','points'])\n",
    "    for v in prob.variables():\n",
    "        if v.varValue == 1:\n",
    "            idx = int(v.name.split(\"_\")[1])\n",
    "            team_df = team_df.append({'name':names[idx],'team':teams[idx],'position':positions[idx],'price':prices[idx],'points':points[idx]},ignore_index=True)\n",
    "    if fixed_players is not None:\n",
    "        for player in fixed_players:\n",
    "            idx = names.index(player)\n",
    "            team_df = team_df.append({'name':names[idx],'team':teams[idx],'position':positions[idx],'price':prices[idx],'points':points[idx]},ignore_index=True)\n",
    "    return team_df\n",
    "\n",
    "def price_and_points_top_x(model_df, x):\n",
    "    \"\"\"A function which returns the price and points of the top x players\"\"\"\n",
    "    top_x = model_df.sort_values(by='points',ascending=False).head(x)\n",
    "    return top_x.price.sum(), top_x.points.sum()\n",
    "\n"
   ]
  },
  {
   "cell_type": "code",
   "execution_count": 114,
   "metadata": {},
   "outputs": [
    {
     "name": "stdout",
     "output_type": "stream",
     "text": [
      "Budget = 635 - Positions = {'DEF': 4, 'FWD': 2, 'GK': 1, 'MID': 3} - Teams = {'Arsenal': 2, 'Aston Villa': 3, 'Bournemouth': 3, 'Brentford': 2, 'Brighton': 3, 'Chelsea': 2, 'Crystal Palace': 3, 'Everton': 3, 'Fulham': 3, 'Leicester': 3, 'Leeds': 3, 'Liverpool': 2, 'Spurs': 3, 'Man City': 3, 'Man Utd': 3, 'Newcastle': 3, \"Nott'm Forest\": 3, 'Southampton': 3, 'West Ham': 2, 'Wolves': 3}\n"
     ]
    },
    {
     "data": {
      "text/html": [
       "<div>\n",
       "<style scoped>\n",
       "    .dataframe tbody tr th:only-of-type {\n",
       "        vertical-align: middle;\n",
       "    }\n",
       "\n",
       "    .dataframe tbody tr th {\n",
       "        vertical-align: top;\n",
       "    }\n",
       "\n",
       "    .dataframe thead th {\n",
       "        text-align: right;\n",
       "    }\n",
       "</style>\n",
       "<table border=\"1\" class=\"dataframe\">\n",
       "  <thead>\n",
       "    <tr style=\"text-align: right;\">\n",
       "      <th></th>\n",
       "      <th>name</th>\n",
       "      <th>team</th>\n",
       "      <th>position</th>\n",
       "      <th>price</th>\n",
       "      <th>points</th>\n",
       "    </tr>\n",
       "  </thead>\n",
       "  <tbody>\n",
       "    <tr>\n",
       "      <th>9</th>\n",
       "      <td>Mohamed Salah</td>\n",
       "      <td>Liverpool</td>\n",
       "      <td>MID</td>\n",
       "      <td>130</td>\n",
       "      <td>265</td>\n",
       "    </tr>\n",
       "    <tr>\n",
       "      <th>6</th>\n",
       "      <td>Son Heung-min</td>\n",
       "      <td>Spurs</td>\n",
       "      <td>MID</td>\n",
       "      <td>120</td>\n",
       "      <td>258</td>\n",
       "    </tr>\n",
       "    <tr>\n",
       "      <th>7</th>\n",
       "      <td>Jarrod Bowen</td>\n",
       "      <td>West Ham</td>\n",
       "      <td>MID</td>\n",
       "      <td>85</td>\n",
       "      <td>206</td>\n",
       "    </tr>\n",
       "    <tr>\n",
       "      <th>1</th>\n",
       "      <td>Conor Gallagher</td>\n",
       "      <td>Chelsea</td>\n",
       "      <td>MID</td>\n",
       "      <td>60</td>\n",
       "      <td>140</td>\n",
       "    </tr>\n",
       "    <tr>\n",
       "      <th>12</th>\n",
       "      <td>Declan Rice</td>\n",
       "      <td>West Ham</td>\n",
       "      <td>MID</td>\n",
       "      <td>50</td>\n",
       "      <td>95</td>\n",
       "    </tr>\n",
       "    <tr>\n",
       "      <th>2</th>\n",
       "      <td>Alisson Ramses Becker</td>\n",
       "      <td>Liverpool</td>\n",
       "      <td>GK</td>\n",
       "      <td>55</td>\n",
       "      <td>176</td>\n",
       "    </tr>\n",
       "    <tr>\n",
       "      <th>11</th>\n",
       "      <td>David Raya Martin</td>\n",
       "      <td>Brentford</td>\n",
       "      <td>GK</td>\n",
       "      <td>45</td>\n",
       "      <td>95</td>\n",
       "    </tr>\n",
       "    <tr>\n",
       "      <th>8</th>\n",
       "      <td>Ivan Toney</td>\n",
       "      <td>Brentford</td>\n",
       "      <td>FWD</td>\n",
       "      <td>70</td>\n",
       "      <td>139</td>\n",
       "    </tr>\n",
       "    <tr>\n",
       "      <th>13</th>\n",
       "      <td>Gabriel Fernando de Jesus</td>\n",
       "      <td>Arsenal</td>\n",
       "      <td>FWD</td>\n",
       "      <td>80</td>\n",
       "      <td>120</td>\n",
       "    </tr>\n",
       "    <tr>\n",
       "      <th>3</th>\n",
       "      <td>Trent Alexander-Arnold</td>\n",
       "      <td>Liverpool</td>\n",
       "      <td>DEF</td>\n",
       "      <td>75</td>\n",
       "      <td>208</td>\n",
       "    </tr>\n",
       "    <tr>\n",
       "      <th>4</th>\n",
       "      <td>João Cancelo</td>\n",
       "      <td>Man City</td>\n",
       "      <td>DEF</td>\n",
       "      <td>70</td>\n",
       "      <td>201</td>\n",
       "    </tr>\n",
       "    <tr>\n",
       "      <th>5</th>\n",
       "      <td>Matty Cash</td>\n",
       "      <td>Aston Villa</td>\n",
       "      <td>DEF</td>\n",
       "      <td>50</td>\n",
       "      <td>147</td>\n",
       "    </tr>\n",
       "    <tr>\n",
       "      <th>0</th>\n",
       "      <td>Gabriel dos Santos Magalhães</td>\n",
       "      <td>Arsenal</td>\n",
       "      <td>DEF</td>\n",
       "      <td>50</td>\n",
       "      <td>146</td>\n",
       "    </tr>\n",
       "    <tr>\n",
       "      <th>10</th>\n",
       "      <td>Reece James</td>\n",
       "      <td>Chelsea</td>\n",
       "      <td>DEF</td>\n",
       "      <td>60</td>\n",
       "      <td>141</td>\n",
       "    </tr>\n",
       "  </tbody>\n",
       "</table>\n",
       "</div>"
      ],
      "text/plain": [
       "                            name         team position price points\n",
       "9                  Mohamed Salah    Liverpool      MID   130    265\n",
       "6                  Son Heung-min        Spurs      MID   120    258\n",
       "7                   Jarrod Bowen     West Ham      MID    85    206\n",
       "1                Conor Gallagher      Chelsea      MID    60    140\n",
       "12                   Declan Rice     West Ham      MID    50     95\n",
       "2          Alisson Ramses Becker    Liverpool       GK    55    176\n",
       "11             David Raya Martin    Brentford       GK    45     95\n",
       "8                     Ivan Toney    Brentford      FWD    70    139\n",
       "13     Gabriel Fernando de Jesus      Arsenal      FWD    80    120\n",
       "3         Trent Alexander-Arnold    Liverpool      DEF    75    208\n",
       "4                   João Cancelo     Man City      DEF    70    201\n",
       "5                     Matty Cash  Aston Villa      DEF    50    147\n",
       "0   Gabriel dos Santos Magalhães      Arsenal      DEF    50    146\n",
       "10                   Reece James      Chelsea      DEF    60    141"
      ]
     },
     "execution_count": 114,
     "metadata": {},
     "output_type": "execute_result"
    }
   ],
   "source": [
    "fixed_players = ['Mohamed Salah',  'Reece James', 'David Raya Martin', 'Declan Rice', 'Gabriel Fernando de Jesus']\n",
    "solved_prob = solve_team(model_df, fixed_players)\n",
    "df = create_team_df(solved_prob, fixed_players)\n",
    "df.sort_values(by=['position','points'], ascending=False)"
   ]
  },
  {
   "cell_type": "code",
   "execution_count": 105,
   "metadata": {},
   "outputs": [
    {
     "data": {
      "text/plain": [
       "(745, 1941)"
      ]
     },
     "execution_count": 105,
     "metadata": {},
     "output_type": "execute_result"
    }
   ],
   "source": [
    "price_and_points_top_x(df, 11)"
   ]
  },
  {
   "cell_type": "code",
   "execution_count": 106,
   "metadata": {},
   "outputs": [
    {
     "data": {
      "text/plain": [
       "(1000, 2485)"
      ]
     },
     "execution_count": 106,
     "metadata": {},
     "output_type": "execute_result"
    }
   ],
   "source": [
    "price_and_points_top_x(df, 15)"
   ]
  },
  {
   "cell_type": "markdown",
   "metadata": {},
   "source": []
  }
 ],
 "metadata": {
  "kernelspec": {
   "display_name": "Python 3.8.5 ('main_env')",
   "language": "python",
   "name": "python3"
  },
  "language_info": {
   "codemirror_mode": {
    "name": "ipython",
    "version": 3
   },
   "file_extension": ".py",
   "mimetype": "text/x-python",
   "name": "python",
   "nbconvert_exporter": "python",
   "pygments_lexer": "ipython3",
   "version": "3.8.5"
  },
  "orig_nbformat": 4,
  "vscode": {
   "interpreter": {
    "hash": "654110a1e56e13731af081765a6d2fbc0ccb1cd84b8a081d28cd9be038e1d4e1"
   }
  }
 },
 "nbformat": 4,
 "nbformat_minor": 2
}
