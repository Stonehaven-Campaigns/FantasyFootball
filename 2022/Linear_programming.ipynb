{
 "cells": [
  {
   "cell_type": "code",
   "execution_count": 1,
   "metadata": {},
   "outputs": [],
   "source": [
    "import pandas as pd\n",
    "from pulp import *"
   ]
  },
  {
   "cell_type": "code",
   "execution_count": 2,
   "metadata": {},
   "outputs": [],
   "source": [
    "filepath = r\"C:\\Users\\lbetham\\GitHub\\Fantasy-Premier-League\\data\"\n",
    "cleaned_players_df = pd.read_csv(filepath + r\"\\2022-23\\cleaned_players.csv\", low_memory=False)\n",
    "teams_df = pd.read_csv(filepath + r\"\\2022-23\\teams.csv\", low_memory=False)\n",
    "past_seasons_df = pd.read_csv(filepath + r\"\\cleaned_merged_seasons.csv\", low_memory=False)\n",
    "raw_players_df = pd.read_csv(filepath + r\"\\2022-23\\players_raw.csv\", low_memory=False)"
   ]
  },
  {
   "cell_type": "code",
   "execution_count": 3,
   "metadata": {},
   "outputs": [],
   "source": [
    "model_df = pd.merge(cleaned_players_df,raw_players_df[['first_name','second_name','team_code']],\"left\",on=['first_name','second_name'])\n",
    "model_df = pd.merge(model_df,teams_df[['code','name']],\"left\",left_on='team_code',right_on='code')\n",
    "model_df.rename({'name':'team_name','code':'team_code'},axis=1,inplace=True)"
   ]
  },
  {
   "cell_type": "code",
   "execution_count": 4,
   "metadata": {},
   "outputs": [],
   "source": [
    "model_df[\"full_name\"] = model_df[\"first_name\"] + \" \" + model_df[\"second_name\"]"
   ]
  },
  {
   "cell_type": "code",
   "execution_count": 5,
   "metadata": {},
   "outputs": [
    {
     "data": {
      "text/html": [
       "<div>\n",
       "<style scoped>\n",
       "    .dataframe tbody tr th:only-of-type {\n",
       "        vertical-align: middle;\n",
       "    }\n",
       "\n",
       "    .dataframe tbody tr th {\n",
       "        vertical-align: top;\n",
       "    }\n",
       "\n",
       "    .dataframe thead th {\n",
       "        text-align: right;\n",
       "    }\n",
       "</style>\n",
       "<table border=\"1\" class=\"dataframe\">\n",
       "  <thead>\n",
       "    <tr style=\"text-align: right;\">\n",
       "      <th></th>\n",
       "      <th>first_name</th>\n",
       "      <th>second_name</th>\n",
       "      <th>goals_scored</th>\n",
       "      <th>assists</th>\n",
       "      <th>total_points</th>\n",
       "      <th>minutes</th>\n",
       "      <th>goals_conceded</th>\n",
       "      <th>creativity</th>\n",
       "      <th>influence</th>\n",
       "      <th>threat</th>\n",
       "      <th>...</th>\n",
       "      <th>clean_sheets</th>\n",
       "      <th>red_cards</th>\n",
       "      <th>yellow_cards</th>\n",
       "      <th>selected_by_percent</th>\n",
       "      <th>now_cost</th>\n",
       "      <th>element_type</th>\n",
       "      <th>team_code</th>\n",
       "      <th>team_code</th>\n",
       "      <th>team_name</th>\n",
       "      <th>full_name</th>\n",
       "    </tr>\n",
       "  </thead>\n",
       "  <tbody>\n",
       "    <tr>\n",
       "      <th>0</th>\n",
       "      <td>Cédric</td>\n",
       "      <td>Alves Soares</td>\n",
       "      <td>1</td>\n",
       "      <td>1</td>\n",
       "      <td>48</td>\n",
       "      <td>1481</td>\n",
       "      <td>27</td>\n",
       "      <td>327.1</td>\n",
       "      <td>318.4</td>\n",
       "      <td>111.0</td>\n",
       "      <td>...</td>\n",
       "      <td>3</td>\n",
       "      <td>0</td>\n",
       "      <td>3</td>\n",
       "      <td>0.3</td>\n",
       "      <td>45</td>\n",
       "      <td>DEF</td>\n",
       "      <td>3</td>\n",
       "      <td>3</td>\n",
       "      <td>Arsenal</td>\n",
       "      <td>Cédric Alves Soares</td>\n",
       "    </tr>\n",
       "    <tr>\n",
       "      <th>1</th>\n",
       "      <td>Bernd</td>\n",
       "      <td>Leno</td>\n",
       "      <td>0</td>\n",
       "      <td>0</td>\n",
       "      <td>10</td>\n",
       "      <td>360</td>\n",
       "      <td>9</td>\n",
       "      <td>0.0</td>\n",
       "      <td>85.0</td>\n",
       "      <td>0.0</td>\n",
       "      <td>...</td>\n",
       "      <td>1</td>\n",
       "      <td>0</td>\n",
       "      <td>0</td>\n",
       "      <td>0.6</td>\n",
       "      <td>45</td>\n",
       "      <td>GK</td>\n",
       "      <td>3</td>\n",
       "      <td>3</td>\n",
       "      <td>Arsenal</td>\n",
       "      <td>Bernd Leno</td>\n",
       "    </tr>\n",
       "  </tbody>\n",
       "</table>\n",
       "<p>2 rows × 23 columns</p>\n",
       "</div>"
      ],
      "text/plain": [
       "  first_name   second_name  goals_scored  assists  total_points  minutes  \\\n",
       "0     Cédric  Alves Soares             1        1            48     1481   \n",
       "1      Bernd          Leno             0        0            10      360   \n",
       "\n",
       "   goals_conceded  creativity  influence  threat  ...  clean_sheets  \\\n",
       "0              27       327.1      318.4   111.0  ...             3   \n",
       "1               9         0.0       85.0     0.0  ...             1   \n",
       "\n",
       "   red_cards  yellow_cards  selected_by_percent  now_cost  element_type  \\\n",
       "0          0             3                  0.3        45           DEF   \n",
       "1          0             0                  0.6        45            GK   \n",
       "\n",
       "   team_code  team_code team_name            full_name  \n",
       "0          3          3   Arsenal  Cédric Alves Soares  \n",
       "1          3          3   Arsenal           Bernd Leno  \n",
       "\n",
       "[2 rows x 23 columns]"
      ]
     },
     "execution_count": 5,
     "metadata": {},
     "output_type": "execute_result"
    }
   ],
   "source": [
    "model_df.head(2)"
   ]
  },
  {
   "cell_type": "code",
   "execution_count": 6,
   "metadata": {},
   "outputs": [],
   "source": [
    "# Helper variables\n",
    "POS = model_df.element_type.unique()\n",
    "CLUBS = model_df.team_name.unique()\n",
    "BUDGET = 1000\n",
    "pos_available = {\n",
    "    'DEF': 5,\n",
    "    'FWD': 3,\n",
    "    'MID': 5,\n",
    "    'GK': 2,\n",
    "}\n",
    "\n",
    "# Initialize Variables\n",
    "names = model_df.full_name.tolist()\n",
    "teams = model_df.team_name.tolist()\n",
    "positions = model_df.element_type.tolist()\n",
    "prices = model_df.now_cost.tolist()\n",
    "points = model_df.total_points.tolist()\n",
    "player_ids = [LpVariable(\"player_\" + str(i), cat=\"Binary\") for i in model_df.index]"
   ]
  },
  {
   "cell_type": "code",
   "execution_count": 7,
   "metadata": {},
   "outputs": [],
   "source": [
    "# Initialize the problem\n",
    "prob = LpProblem(\"FPL_Player_Choices\", LpMaximize)"
   ]
  },
  {
   "cell_type": "code",
   "execution_count": 8,
   "metadata": {},
   "outputs": [],
   "source": [
    "# Define the objective\n",
    "prob += lpSum(player_ids[i] * points[i] for i in range(len(model_df))) # Objective"
   ]
  },
  {
   "cell_type": "code",
   "execution_count": 9,
   "metadata": {},
   "outputs": [],
   "source": [
    "# Build the constraints\n",
    "prob += lpSum(player_ids[i] * model_df.now_cost[model_df.index[i]] for i in range(len(model_df))) <= BUDGET # Budget Limit\n",
    "\n",
    "for pos in POS:\n",
    "  prob += lpSum(player_ids[i] for i in range(len(model_df)) if positions[i] == pos) <= pos_available[pos] # Position Limit\n",
    "\n",
    "for club in CLUBS:\n",
    "  prob += lpSum(player_ids[i] for i in range(len(model_df)) if teams[i] == club) <= 3 # Club Limit"
   ]
  },
  {
   "cell_type": "code",
   "execution_count": 10,
   "metadata": {},
   "outputs": [
    {
     "data": {
      "text/plain": [
       "1"
      ]
     },
     "execution_count": 10,
     "metadata": {},
     "output_type": "execute_result"
    }
   ],
   "source": [
    "# Solve the problem\n",
    "prob.solve()"
   ]
  },
  {
   "cell_type": "code",
   "execution_count": 11,
   "metadata": {},
   "outputs": [
    {
     "name": "stdout",
     "output_type": "stream",
     "text": [
      "Bukayo Saka | MID | Arsenal | 179 | 80\n",
      "Gabriel dos Santos Magalhães | DEF | Arsenal | 146 | 50\n",
      "James Maddison | MID | Leicester | 181 | 80\n",
      "Virgil van Dijk | DEF | Liverpool | 183 | 65\n",
      "Alisson Ramses Becker | GK | Liverpool | 176 | 55\n",
      "Trent Alexander-Arnold | DEF | Liverpool | 208 | 75\n",
      "João Cancelo | DEF | Man City | 201 | 70\n",
      "Bernardo Veiga de Carvalho e Silva | MID | Man City | 155 | 70\n",
      "Matty Cash | DEF | Aston Villa | 147 | 50\n",
      "James Ward-Prowse | MID | Southampton | 159 | 65\n",
      "Michail Antonio | FWD | West Ham | 140 | 75\n",
      "Jarrod Bowen | MID | West Ham | 206 | 85\n",
      "José Malheiro de Sá | GK | Wolves | 146 | 50\n",
      "Ivan Toney | FWD | Brentford | 139 | 70\n",
      "Bryan Mbeumo | FWD | Brentford | 119 | 60\n"
     ]
    }
   ],
   "source": [
    "for v in prob.variables():\n",
    "  if v.varValue != 0:\n",
    "    name = model_df.full_name[int(v.name.split(\"_\")[1])]\n",
    "    club = model_df.team_name[int(v.name.split(\"_\")[1])]\n",
    "    position = model_df.element_type[int(v.name.split(\"_\")[1])]\n",
    "    point = model_df.total_points[int(v.name.split(\"_\")[1])]\n",
    "    price = model_df.now_cost[int(v.name.split(\"_\")[1])]\n",
    "    print(name, position, club, point, price, sep=\" | \")"
   ]
  },
  {
   "cell_type": "code",
   "execution_count": null,
   "metadata": {},
   "outputs": [],
   "source": []
  }
 ],
 "metadata": {
  "kernelspec": {
   "display_name": "Python 3.8.5 ('main_env')",
   "language": "python",
   "name": "python3"
  },
  "language_info": {
   "codemirror_mode": {
    "name": "ipython",
    "version": 3
   },
   "file_extension": ".py",
   "mimetype": "text/x-python",
   "name": "python",
   "nbconvert_exporter": "python",
   "pygments_lexer": "ipython3",
   "version": "3.8.5"
  },
  "orig_nbformat": 4,
  "vscode": {
   "interpreter": {
    "hash": "654110a1e56e13731af081765a6d2fbc0ccb1cd84b8a081d28cd9be038e1d4e1"
   }
  }
 },
 "nbformat": 4,
 "nbformat_minor": 2
}
